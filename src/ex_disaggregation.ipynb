{
 "cells": [
  {
   "cell_type": "code",
   "execution_count": 1,
   "metadata": {},
   "outputs": [
    {
     "name": "stdout",
     "output_type": "stream",
     "text": [
      "8760  time steps\n"
     ]
    }
   ],
   "source": [
    "import pandas as pd \n",
    "import numpy as np\n",
    "import math\n",
    "from demand_allocation_dict import demand_allocation\n",
    "\n",
    "from extensions import disaggregate_energy_and_vehs, determine_nb_of_charging_vehs_per_day, capacity_sizing, determine_total_hours_of_charging, hourly_dissagregation, creating_hour_demand_dict, adding_hours_demand, create_total_yearly_demand_profile"
   ]
  },
  {
   "cell_type": "code",
   "execution_count": 2,
   "metadata": {},
   "outputs": [
    {
     "name": "stdout",
     "output_type": "stream",
     "text": [
      "{'night_charging': {'share': 1, 'start_time': 17, 'end_time': 7, 'strategy_split': {'even': 0.5, 'earliest': 0.3, 'latest': 0.2}, 'charging_power': 11, 'cars_per_cs_per_day': 1}, 'day_quick_charging': {'share': 0, 'start_time': 10, 'end_time': 16, 'strategy_split': {'even': 1, 'earliest': 0, 'latest': 0}, 'charging_power': 50, 'cars_per_cs_per_day': 8}}\n"
     ]
    }
   ],
   "source": [
    "demand_allocation\n",
    "print(demand_allocation)"
   ]
  },
  {
   "cell_type": "code",
   "execution_count": 3,
   "metadata": {},
   "outputs": [],
   "source": [
    "batt_cap = 50   # kWh\n",
    "total_vehs = 1000\n",
    "total_demand = total_vehs * 365 * batt_cap/3 \n",
    "\n",
    "year_to_be_modeled = 2030\n",
    "total_charging_shares = sum(demand_allocation[da][\"share\"] for da in demand_allocation.keys())\n",
    "nb_days = 366 if (year_to_be_modeled % 4 == 0 and (year_to_be_modeled % 100 != 0 or year_to_be_modeled % 400 == 0)) else 365\n",
    "daily_demand = total_demand / nb_days\n",
    "assert round(total_charging_shares) == 1, \"The sum of the shares must be equal to 1\""
   ]
  },
  {
   "cell_type": "code",
   "execution_count": 4,
   "metadata": {},
   "outputs": [],
   "source": [
    "charging_strategy = list(demand_allocation.keys())[0]\n",
    "share = demand_allocation[charging_strategy][\"share\"]\n",
    "start_time = demand_allocation[charging_strategy][\"start_time\"]\n",
    "end_time = demand_allocation[charging_strategy][\"end_time\"]\n",
    "charging_power = demand_allocation[charging_strategy][\"charging_power\"]\n",
    "cars_per_cs_per_day = demand_allocation[charging_strategy][\"cars_per_cs_per_day\"]"
   ]
  },
  {
   "cell_type": "markdown",
   "metadata": {},
   "source": [
    "# step 1: determine the number of vehs and energy for this charging strategy"
   ]
  },
  {
   "cell_type": "code",
   "execution_count": 5,
   "metadata": {},
   "outputs": [
    {
     "name": "stdout",
     "output_type": "stream",
     "text": [
      "6083333.333333333 6083333.333333333 1000\n",
      "16666.666666666664 16666.666666666664\n"
     ]
    }
   ],
   "source": [
    "curr_energy_demand, vehs = disaggregate_energy_and_vehs(total_demand, total_vehs, share)\n",
    "print(total_demand, curr_energy_demand, vehs)\n",
    "\n",
    "curr_daily_demand = daily_demand * share\n",
    "print(curr_daily_demand, curr_energy_demand/365)"
   ]
  },
  {
   "cell_type": "markdown",
   "metadata": {},
   "source": [
    "# step 2: determine the number of vehs to be charged per day"
   ]
  },
  {
   "cell_type": "code",
   "execution_count": 6,
   "metadata": {},
   "outputs": [
    {
     "name": "stdout",
     "output_type": "stream",
     "text": [
      "416.66666666666663\n"
     ]
    }
   ],
   "source": [
    "vehs_to_be_charged_per_day = determine_nb_of_charging_vehs_per_day(vehs, batt_cap, curr_daily_demand/vehs)\n",
    "print(vehs_to_be_charged_per_day)"
   ]
  },
  {
   "cell_type": "markdown",
   "metadata": {},
   "source": [
    "# step 3: determine the capacity of the charging infrastructure"
   ]
  },
  {
   "cell_type": "code",
   "execution_count": 7,
   "metadata": {},
   "outputs": [
    {
     "name": "stdout",
     "output_type": "stream",
     "text": [
      "4583.333333333333\n",
      "4583.333333333333\n"
     ]
    }
   ],
   "source": [
    "charging_infra_capacity = capacity_sizing(vehs_to_be_charged_per_day, cars_per_cs_per_day, charging_power)\n",
    "print(charging_infra_capacity)\n",
    "print(vehs_to_be_charged_per_day * 11)"
   ]
  },
  {
   "cell_type": "markdown",
   "metadata": {},
   "source": [
    "# step 4: determine the hourly demand profile"
   ]
  },
  {
   "cell_type": "code",
   "execution_count": 8,
   "metadata": {},
   "outputs": [
    {
     "name": "stdout",
     "output_type": "stream",
     "text": [
      "14\n"
     ]
    }
   ],
   "source": [
    "charging_hours = determine_total_hours_of_charging(start_time, end_time)\n",
    "print(charging_hours)"
   ]
  },
  {
   "cell_type": "code",
   "execution_count": 9,
   "metadata": {},
   "outputs": [
    {
     "name": "stdout",
     "output_type": "stream",
     "text": [
      "3041666.6666666665 6083333.333333333\n",
      "[595.23809524 595.23809524 595.23809524 595.23809524 595.23809524\n",
      " 595.23809524 595.23809524 595.23809524 595.23809524 595.23809524\n",
      " 595.23809524 595.23809524 595.23809524 595.23809524] 4583.333333333333\n"
     ]
    }
   ],
   "source": [
    "mode = \"even\" \n",
    "curr_energy_demand_by_mode = curr_energy_demand * demand_allocation[charging_strategy][\"strategy_split\"][mode]\n",
    "print(curr_energy_demand_by_mode, curr_energy_demand)\n",
    "hour_profile = hourly_dissagregation(curr_energy_demand_by_mode/nb_days, charging_infra_capacity, charging_hours, mode=mode)\n",
    "print(hour_profile, charging_infra_capacity)"
   ]
  },
  {
   "cell_type": "code",
   "execution_count": 10,
   "metadata": {},
   "outputs": [
    {
     "name": "stdout",
     "output_type": "stream",
     "text": [
      "1216666.6666666667 6083333.333333333\n",
      "3333.3333333333335 4583.333333333333\n",
      "[   0.            0.            0.            0.            0.\n",
      "    0.            0.            0.            0.            0.\n",
      "    0.            0.            0.         3333.33333333]\n"
     ]
    }
   ],
   "source": [
    "mode = \"latest\" \n",
    "curr_energy_demand_by_mode = curr_energy_demand * demand_allocation[charging_strategy][\"strategy_split\"][mode]\n",
    "print(curr_energy_demand_by_mode, curr_energy_demand)\n",
    "hour_profile = hourly_dissagregation(curr_energy_demand_by_mode/nb_days, charging_infra_capacity, charging_hours, mode=mode)\n",
    "print(curr_energy_demand_by_mode/nb_days, charging_infra_capacity)\n",
    "print(hour_profile)"
   ]
  },
  {
   "cell_type": "markdown",
   "metadata": {},
   "source": [
    "# step 4: determine the hourly demand profile"
   ]
  },
  {
   "cell_type": "code",
   "execution_count": 11,
   "metadata": {},
   "outputs": [
    {
     "name": "stdout",
     "output_type": "stream",
     "text": [
      "6083333.333333333\n",
      "[array([595.23809524, 595.23809524, 595.23809524, 595.23809524,\n",
      "       595.23809524, 595.23809524, 595.23809524, 595.23809524,\n",
      "       595.23809524, 595.23809524, 595.23809524, 595.23809524,\n",
      "       595.23809524, 595.23809524]), array([4583.33333333,  416.66666667,    0.        ,    0.        ,\n",
      "          0.        ,    0.        ,    0.        ,    0.        ,\n",
      "          0.        ,    0.        ,    0.        ,    0.        ,\n",
      "          0.        ,    0.        ]), array([   0.        ,    0.        ,    0.        ,    0.        ,\n",
      "          0.        ,    0.        ,    0.        ,    0.        ,\n",
      "          0.        ,    0.        ,    0.        ,    0.        ,\n",
      "          0.        , 3333.33333333])]\n"
     ]
    }
   ],
   "source": [
    "hour_profiles = []\n",
    "print(curr_energy_demand)\n",
    "for mode in demand_allocation[charging_strategy][\"strategy_split\"]:\n",
    "    curr_energy_demand_by_mode = curr_energy_demand * demand_allocation[charging_strategy][\"strategy_split\"][mode]\n",
    "    hour_profile = hourly_dissagregation(curr_energy_demand_by_mode/nb_days, charging_infra_capacity, charging_hours, mode=mode)\n",
    "    hour_profiles.append(hour_profile)\n",
    "print(hour_profiles)"
   ]
  },
  {
   "cell_type": "markdown",
   "metadata": {},
   "source": [
    "# step 5: make dictionary of hourly demand"
   ]
  },
  {
   "cell_type": "code",
   "execution_count": 12,
   "metadata": {},
   "outputs": [
    {
     "name": "stdout",
     "output_type": "stream",
     "text": [
      "{0: np.float64(595.2380952380952), 1: np.float64(595.2380952380952), 2: np.float64(595.2380952380952), 3: np.float64(595.2380952380952), 4: np.float64(595.2380952380952), 5: np.float64(595.2380952380952), 6: np.float64(595.2380952380952), 7: 0, 8: 0, 9: 0, 10: 0, 11: 0, 12: 0, 13: 0, 14: 0, 15: 0, 16: 0, 17: np.float64(595.2380952380952), 18: np.float64(595.2380952380952), 19: np.float64(595.2380952380952), 20: np.float64(595.2380952380952), 21: np.float64(595.2380952380952), 22: np.float64(595.2380952380952), 23: np.float64(595.2380952380952)}\n",
      "{0: np.float64(0.0), 1: np.float64(0.0), 2: np.float64(0.0), 3: np.float64(0.0), 4: np.float64(0.0), 5: np.float64(0.0), 6: np.float64(0.0), 7: 0, 8: 0, 9: 0, 10: 0, 11: 0, 12: 0, 13: 0, 14: 0, 15: 0, 16: 0, 17: np.float64(4583.333333333333), 18: np.float64(416.66666666666606), 19: np.float64(0.0), 20: np.float64(0.0), 21: np.float64(0.0), 22: np.float64(0.0), 23: np.float64(0.0)}\n",
      "{0: np.float64(0.0), 1: np.float64(0.0), 2: np.float64(0.0), 3: np.float64(0.0), 4: np.float64(0.0), 5: np.float64(0.0), 6: np.float64(3333.3333333333335), 7: 0, 8: 0, 9: 0, 10: 0, 11: 0, 12: 0, 13: 0, 14: 0, 15: 0, 16: 0, 17: np.float64(0.0), 18: np.float64(0.0), 19: np.float64(0.0), 20: np.float64(0.0), 21: np.float64(0.0), 22: np.float64(0.0), 23: np.float64(0.0)}\n"
     ]
    }
   ],
   "source": [
    "hourly_profiles_total = []\n",
    "hour_profiles_dicts = []\n",
    "for h_profile in hour_profiles:\n",
    "    hour_profile_dict = creating_hour_demand_dict(start_time, end_time, h_profile)\n",
    "    hour_profiles_dicts.append(hour_profile_dict)\n",
    "    hourly_profiles_total.append(hour_profile_dict)\n",
    "    print(hour_profile_dict)\n",
    "\n",
    "# print(hourly_profiles_total)"
   ]
  },
  {
   "cell_type": "code",
   "execution_count": 13,
   "metadata": {},
   "outputs": [
    {
     "name": "stdout",
     "output_type": "stream",
     "text": [
      "31\n",
      "{0: np.float64(595.2380952380952), 1: np.float64(595.2380952380952), 2: np.float64(595.2380952380952), 3: np.float64(595.2380952380952), 4: np.float64(595.2380952380952), 5: np.float64(595.2380952380952), 6: np.float64(595.2380952380952), 7: 0, 8: 0, 9: 0, 10: 0, 11: 0, 12: 0, 13: 0, 14: 0, 15: 0, 16: 0, 17: np.float64(595.2380952380952), 18: np.float64(595.2380952380952), 19: np.float64(595.2380952380952), 20: np.float64(595.2380952380952), 21: np.float64(595.2380952380952), 22: np.float64(595.2380952380952), 23: np.float64(595.2380952380952)}\n"
     ]
    }
   ],
   "source": [
    "hour_profile = hour_profiles[0]\n",
    "hour_demand_profile = {hour: 0 for hour in range(24)}\n",
    "if end_time < start_time:\n",
    "    fake_end_time = end_time + 24\n",
    "else:\n",
    "    fake_end_time = end_time\n",
    "print(fake_end_time)\n",
    "for hour in range(start_time, fake_end_time):\n",
    "    charging_demand = hour_profile[hour-start_time]\n",
    "    if hour > 23:\n",
    "        hour_demand_profile[hour - 24] = charging_demand\n",
    "    else:\n",
    "        hour_demand_profile[hour] = charging_demand\n",
    "\n",
    "print(hour_demand_profile)\n"
   ]
  },
  {
   "cell_type": "markdown",
   "metadata": {},
   "source": [
    "# final step: summing up all profiles"
   ]
  },
  {
   "cell_type": "code",
   "execution_count": 14,
   "metadata": {},
   "outputs": [
    {
     "name": "stdout",
     "output_type": "stream",
     "text": [
      "{0: np.float64(595.2380952380952), 1: np.float64(595.2380952380952), 2: np.float64(595.2380952380952), 3: np.float64(595.2380952380952), 4: np.float64(595.2380952380952), 5: np.float64(595.2380952380952), 6: np.float64(3928.5714285714284), 7: 0, 8: 0, 9: 0, 10: 0, 11: 0, 12: 0, 13: 0, 14: 0, 15: 0, 16: 0, 17: np.float64(5178.571428571428), 18: np.float64(1011.9047619047612), 19: np.float64(595.2380952380952), 20: np.float64(595.2380952380952), 21: np.float64(595.2380952380952), 22: np.float64(595.2380952380952), 23: np.float64(595.2380952380952)}\n"
     ]
    }
   ],
   "source": [
    "hourly_demand_dict = adding_hours_demand(hourly_profiles_total)\n",
    "print(hourly_demand_dict)\n"
   ]
  },
  {
   "cell_type": "code",
   "execution_count": 15,
   "metadata": {},
   "outputs": [
    {
     "name": "stdout",
     "output_type": "stream",
     "text": [
      "8760  time steps\n"
     ]
    }
   ],
   "source": [
    "total_yearly_profile = create_total_yearly_demand_profile(hourly_demand_dict, nb_days)\n",
    "print(len(total_yearly_profile), \" time steps\")"
   ]
  }
 ],
 "metadata": {
  "kernelspec": {
   "display_name": "transcomp",
   "language": "python",
   "name": "python3"
  },
  "language_info": {
   "codemirror_mode": {
    "name": "ipython",
    "version": 3
   },
   "file_extension": ".py",
   "mimetype": "text/x-python",
   "name": "python",
   "nbconvert_exporter": "python",
   "pygments_lexer": "ipython3",
   "version": "3.13.2"
  }
 },
 "nbformat": 4,
 "nbformat_minor": 2
}
